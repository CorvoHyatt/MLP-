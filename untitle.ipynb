{
 "cells": [
  {
   "cell_type": "markdown",
   "metadata": {},
   "source": [
    "### FeedForward"
   ]
  },
  {
   "cell_type": "code",
   "execution_count": 7,
   "metadata": {},
   "outputs": [],
   "source": [
    "import numpy as np\n",
    "import math"
   ]
  },
  {
   "cell_type": "markdown",
   "metadata": {},
   "source": [
    "#### Capa de entrada a oculta"
   ]
  },
  {
   "cell_type": "code",
   "execution_count": 2,
   "metadata": {},
   "outputs": [],
   "source": [
    "w_h = np.array([[0.15, 0.25],\n",
    "                [0.20, 0.30]])\n",
    "                \n",
    "b_h = np.array([0.35, 0.35])"
   ]
  },
  {
   "cell_type": "markdown",
   "metadata": {},
   "source": [
    "#### Capa oculta a capa de salida"
   ]
  },
  {
   "cell_type": "code",
   "execution_count": 3,
   "metadata": {},
   "outputs": [],
   "source": [
    "w_out = np.array([[0.40, 0.50], \n",
    "                  [0.45, 0.55]])\n",
    "                  \n",
    "b_out = np.array([0.60, 0.60])"
   ]
  },
  {
   "cell_type": "code",
   "execution_count": 4,
   "metadata": {},
   "outputs": [],
   "source": [
    "pattern = np.array([0.05, 0.1])\n",
    "target = np.array([0.01, 0.99])"
   ]
  },
  {
   "cell_type": "code",
   "execution_count": 5,
   "metadata": {},
   "outputs": [],
   "source": [
    "# Salida de las neronas de la capa de pattern[0]\n",
    "a_in_i1 = pattern[0]\n",
    "a_in_i2 = pattern[1] "
   ]
  },
  {
   "cell_type": "code",
   "execution_count": 8,
   "metadata": {},
   "outputs": [
    {
     "name": "stdout",
     "output_type": "stream",
     "text": [
      "Entrada h1 =  0.3775\n",
      "Entrada h2 =  0.3925\n",
      "Salida h1 =  0.5932699921071872\n",
      "Salida h2 =  0.596884378259767\n"
     ]
    }
   ],
   "source": [
    "# Entrada de las neuronas de la capa oculta\n",
    "z_h_h1 = round(a_in_i1 * w_h[0][0] + a_in_i2 * w_h[1][0] + 1 * b_h[0], 5)\n",
    "z_h_h2 = round(a_in_i1 * w_h[0][1] + a_in_i2 * w_h[1][1] + 1 * b_h[1], 5)\n",
    "\n",
    "print(\"Entrada h1 = \", z_h_h1)\n",
    "print(\"Entrada h2 = \", z_h_h2)\n",
    "\n",
    "# Salida de las neuronas de la capa oculta\n",
    "a_h_h1 = 1. / (1. + math.exp(- z_h_h1))\n",
    "a_h_h2 = 1. / (1. + math.exp(- z_h_h2))\n",
    "\n",
    "print(\"Salida h1 = \", a_h_h1)\n",
    "print(\"Salida h2 = \", a_h_h2)"
   ]
  },
  {
   "cell_type": "code",
   "execution_count": null,
   "metadata": {},
   "outputs": [],
   "source": []
  }
 ],
 "metadata": {
  "kernelspec": {
   "display_name": "base",
   "language": "python",
   "name": "python3"
  },
  "language_info": {
   "codemirror_mode": {
    "name": "ipython",
    "version": 3
   },
   "file_extension": ".py",
   "mimetype": "text/x-python",
   "name": "python",
   "nbconvert_exporter": "python",
   "pygments_lexer": "ipython3",
   "version": "3.11.5"
  }
 },
 "nbformat": 4,
 "nbformat_minor": 2
}
